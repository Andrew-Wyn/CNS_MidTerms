{
 "cells": [
  {
   "cell_type": "code",
   "execution_count": 1,
   "id": "b43c7cad",
   "metadata": {},
   "outputs": [],
   "source": [
    "import numpy as np\n",
    "import pandas as pd\n",
    "import matplotlib.pyplot as plt\n",
    "import torch\n",
    "import torch.nn as nn\n",
    "from tqdm import tqdm"
   ]
  },
  {
   "cell_type": "code",
   "execution_count": 2,
   "id": "aa70491f",
   "metadata": {},
   "outputs": [],
   "source": [
    "data_narma10 = pd.read_csv(\"data/NARMA10.csv\", header=None)"
   ]
  },
  {
   "cell_type": "code",
   "execution_count": 3,
   "id": "3f5875b8",
   "metadata": {},
   "outputs": [
    {
     "data": {
      "text/html": [
       "<div>\n",
       "<style scoped>\n",
       "    .dataframe tbody tr th:only-of-type {\n",
       "        vertical-align: middle;\n",
       "    }\n",
       "\n",
       "    .dataframe tbody tr th {\n",
       "        vertical-align: top;\n",
       "    }\n",
       "\n",
       "    .dataframe thead th {\n",
       "        text-align: right;\n",
       "    }\n",
       "</style>\n",
       "<table border=\"1\" class=\"dataframe\">\n",
       "  <thead>\n",
       "    <tr style=\"text-align: right;\">\n",
       "      <th></th>\n",
       "      <th>0</th>\n",
       "      <th>1</th>\n",
       "      <th>2</th>\n",
       "      <th>3</th>\n",
       "      <th>4</th>\n",
       "      <th>5</th>\n",
       "      <th>6</th>\n",
       "      <th>7</th>\n",
       "      <th>8</th>\n",
       "      <th>9</th>\n",
       "      <th>...</th>\n",
       "      <th>9990</th>\n",
       "      <th>9991</th>\n",
       "      <th>9992</th>\n",
       "      <th>9993</th>\n",
       "      <th>9994</th>\n",
       "      <th>9995</th>\n",
       "      <th>9996</th>\n",
       "      <th>9997</th>\n",
       "      <th>9998</th>\n",
       "      <th>9999</th>\n",
       "    </tr>\n",
       "  </thead>\n",
       "  <tbody>\n",
       "    <tr>\n",
       "      <th>0</th>\n",
       "      <td>0.083964</td>\n",
       "      <td>0.48934</td>\n",
       "      <td>0.35635</td>\n",
       "      <td>0.25024</td>\n",
       "      <td>0.23554</td>\n",
       "      <td>0.029809</td>\n",
       "      <td>0.34099</td>\n",
       "      <td>0.021216</td>\n",
       "      <td>0.035723</td>\n",
       "      <td>0.26082</td>\n",
       "      <td>...</td>\n",
       "      <td>0.08209</td>\n",
       "      <td>0.19951</td>\n",
       "      <td>0.26618</td>\n",
       "      <td>0.43761</td>\n",
       "      <td>0.32952</td>\n",
       "      <td>0.39381</td>\n",
       "      <td>0.063013</td>\n",
       "      <td>0.26249</td>\n",
       "      <td>0.44974</td>\n",
       "      <td>0.054542</td>\n",
       "    </tr>\n",
       "    <tr>\n",
       "      <th>1</th>\n",
       "      <td>0.000000</td>\n",
       "      <td>0.00000</td>\n",
       "      <td>0.00000</td>\n",
       "      <td>0.00000</td>\n",
       "      <td>0.00000</td>\n",
       "      <td>0.000000</td>\n",
       "      <td>0.00000</td>\n",
       "      <td>0.000000</td>\n",
       "      <td>0.000000</td>\n",
       "      <td>0.00000</td>\n",
       "      <td>...</td>\n",
       "      <td>0.26495</td>\n",
       "      <td>0.21299</td>\n",
       "      <td>0.26849</td>\n",
       "      <td>0.19633</td>\n",
       "      <td>0.32609</td>\n",
       "      <td>0.31816</td>\n",
       "      <td>0.448240</td>\n",
       "      <td>0.26351</td>\n",
       "      <td>0.20217</td>\n",
       "      <td>0.365350</td>\n",
       "    </tr>\n",
       "  </tbody>\n",
       "</table>\n",
       "<p>2 rows × 10000 columns</p>\n",
       "</div>"
      ],
      "text/plain": [
       "       0        1        2        3        4         5        6         7      \n",
       "0  0.083964  0.48934  0.35635  0.25024  0.23554  0.029809  0.34099  0.021216  \\\n",
       "1  0.000000  0.00000  0.00000  0.00000  0.00000  0.000000  0.00000  0.000000   \n",
       "\n",
       "       8        9     ...     9990     9991     9992     9993     9994   \n",
       "0  0.035723  0.26082  ...  0.08209  0.19951  0.26618  0.43761  0.32952  \\\n",
       "1  0.000000  0.00000  ...  0.26495  0.21299  0.26849  0.19633  0.32609   \n",
       "\n",
       "      9995      9996     9997     9998      9999  \n",
       "0  0.39381  0.063013  0.26249  0.44974  0.054542  \n",
       "1  0.31816  0.448240  0.26351  0.20217  0.365350  \n",
       "\n",
       "[2 rows x 10000 columns]"
      ]
     },
     "execution_count": 3,
     "metadata": {},
     "output_type": "execute_result"
    }
   ],
   "source": [
    "data_narma10.head()"
   ]
  },
  {
   "cell_type": "code",
   "execution_count": 31,
   "id": "7244a5f9",
   "metadata": {},
   "outputs": [],
   "source": [
    "X = data_narma10.loc[1, :].to_numpy()\n",
    "y = data_narma10.loc[0, :].to_numpy()"
   ]
  },
  {
   "cell_type": "code",
   "execution_count": 5,
   "id": "57a0ebe7",
   "metadata": {},
   "outputs": [
    {
     "data": {
      "image/png": "[encoded data removed]",
      "text/plain": [
       "<Figure size 640x480 with 1 Axes>"
      ]
     },
     "metadata": {},
     "output_type": "display_data"
    }
   ],
   "source": [
    "plt.plot(y[:10])\n",
    "plt.show()"
   ]
  },
  {
   "cell_type": "markdown",
   "id": "167f1058",
   "metadata": {},
   "source": [
    "## Time Delay Neural Network"
   ]
  },
  {
   "cell_type": "code",
   "execution_count": 6,
   "id": "42544333",
   "metadata": {},
   "outputs": [],
   "source": [
    "def construct_tdnn_data(X, t=2):\n",
    "    data = []\n",
    "    input_i = [0 for _ in range(t)]\n",
    "    for x in X:\n",
    "        input_i.pop(0)\n",
    "        input_i.append(x)\n",
    "        \n",
    "        data.append(torch.Tensor(input_i))\n",
    "        \n",
    "    return torch.stack(data)"
   ]
  },
  {
   "cell_type": "code",
   "execution_count": 7,
   "id": "c391c022",
   "metadata": {},
   "outputs": [],
   "source": [
    "X_tdnn = construct_tdnn_data(X, 5)\n",
    "y_tdnn = torch.Tensor(y)"
   ]
  },
  {
   "cell_type": "code",
   "execution_count": 8,
   "id": "ea3c3b7f",
   "metadata": {},
   "outputs": [],
   "source": [
    "# test split\n",
    "X_test = X_tdnn[5000:]\n",
    "y_test = y_tdnn[5000:]\n",
    "\n",
    "# train split\n",
    "X_train = X_tdnn[:4000]\n",
    "y_train = y_tdnn[:4000]\n",
    "\n",
    "# valid split\n",
    "X_valid = X_tdnn[4000:5000]\n",
    "y_valid = y_tdnn[4000:5000]"
   ]
  },
  {
   "cell_type": "code",
   "execution_count": 9,
   "id": "4cdfedeb",
   "metadata": {},
   "outputs": [
    {
     "name": "stdout",
     "output_type": "stream",
     "text": [
      "torch.Size([4000, 5])\n",
      "torch.Size([1000, 5])\n",
      "torch.Size([5000, 5])\n"
     ]
    }
   ],
   "source": [
    "print(X_train.shape)\n",
    "print(X_valid.shape)\n",
    "print(X_test.shape)"
   ]
  },
  {
   "cell_type": "code",
   "execution_count": 10,
   "id": "22bd6030",
   "metadata": {},
   "outputs": [],
   "source": [
    "ds_train = torch.utils.data.TensorDataset(X_train, y_train)\n",
    "dl_train = torch.utils.data.DataLoader(ds_train, batch_size=64)\n",
    "\n",
    "ds_valid = torch.utils.data.TensorDataset(X_valid, y_valid)\n",
    "dl_valid = torch.utils.data.DataLoader(ds_valid, batch_size=64)\n",
    "\n",
    "ds_test = torch.utils.data.TensorDataset(X_test, y_test)\n",
    "dl_test = torch.utils.data.DataLoader(ds_test, batch_size=64)"
   ]
  },
  {
   "cell_type": "code",
   "execution_count": 11,
   "id": "70df8e81",
   "metadata": {},
   "outputs": [],
   "source": [
    "model = nn.Sequential(\n",
    "    nn.Linear(5, 20),\n",
    "    nn.Tanh(),\n",
    "    nn.Linear(20, 1)\n",
    ")\n",
    "\n",
    "optimizer = torch.optim.SGD(model.parameters(), lr = 0.3)\n",
    "loss_fn = torch.nn.MSELoss(reduction=\"mean\")"
   ]
  },
  {
   "cell_type": "code",
   "execution_count": 12,
   "id": "3f01168b",
   "metadata": {},
   "outputs": [],
   "source": [
    "def evaluate(model, dl_valid, loss_fn):\n",
    "    model.eval()\n",
    "    \n",
    "    valid_loss = 0.0\n",
    "    n = 0\n",
    "    \n",
    "    for x, y in dl_valid:\n",
    "        y_pred = model(x)\n",
    "        loss = loss_fn(y_pred.view(-1), y)\n",
    "        valid_loss += loss.item()\n",
    "        n += 1\n",
    "        \n",
    "    return valid_loss / n"
   ]
  },
  {
   "cell_type": "code",
   "execution_count": 13,
   "id": "2cff3407",
   "metadata": {},
   "outputs": [
    {
     "name": "stderr",
     "output_type": "stream",
     "text": [
      "100%|███████████████████████████████████████████████████████████████████████████████████████████████████████████████████████████████████████████████████████████████████| 100/100 [00:06<00:00, 16.40it/s]\n"
     ]
    }
   ],
   "source": [
    "train_losses = []\n",
    "valid_losses = []\n",
    "\n",
    "for i in tqdm(range(100)):\n",
    "    \n",
    "    valid_loss = 0.0\n",
    "    train_loss = 0.0\n",
    "    n = 0\n",
    "    model.train()\n",
    "    \n",
    "    for x, y in dl_train:\n",
    "        optimizer.zero_grad()\n",
    "        y_pred = model(x)\n",
    "        loss = loss_fn(y_pred.view(-1), y)\n",
    "        loss.backward()\n",
    "        optimizer.step()\n",
    "        \n",
    "        train_loss += loss.item()\n",
    "        n += 1\n",
    "    \n",
    "    train_loss /= n\n",
    "    train_losses.append(train_loss)\n",
    "    valid_losses.append(evaluate(model, dl_valid, loss_fn))"
   ]
  },
  {
   "cell_type": "code",
   "execution_count": 14,
   "id": "e726163b",
   "metadata": {},
   "outputs": [
    {
     "data": {
      "image/png": "[encoded data removed]",
      "text/plain": [
       "<Figure size 640x480 with 1 Axes>"
      ]
     },
     "metadata": {},
     "output_type": "display_data"
    }
   ],
   "source": [
    "plt.plot(train_losses)\n",
    "plt.plot(valid_losses)\n",
    "plt.show()"
   ]
  },
  {
   "cell_type": "code",
   "execution_count": 15,
   "id": "3cb8f459",
   "metadata": {},
   "outputs": [
    {
     "name": "stdout",
     "output_type": "stream",
     "text": [
      "0.02072492153162048\n"
     ]
    }
   ],
   "source": [
    "print(train_losses[-1])"
   ]
  },
  {
   "cell_type": "code",
   "execution_count": 16,
   "id": "7414c4db",
   "metadata": {},
   "outputs": [
    {
     "name": "stdout",
     "output_type": "stream",
     "text": [
      "0.021415920346044004\n"
     ]
    }
   ],
   "source": [
    "print(valid_losses[-1])"
   ]
  },
  {
   "cell_type": "code",
   "execution_count": 17,
   "id": "803a176f",
   "metadata": {},
   "outputs": [
    {
     "name": "stdout",
     "output_type": "stream",
     "text": [
      "0.021310343324572226\n"
     ]
    }
   ],
   "source": [
    "print(evaluate(model, dl_test, loss_fn))"
   ]
  },
  {
   "cell_type": "markdown",
   "id": "5898c933",
   "metadata": {},
   "source": [
    "## RNN"
   ]
  },
  {
   "cell_type": "code",
   "execution_count": 32,
   "id": "24f4cb1c",
   "metadata": {},
   "outputs": [
    {
     "name": "stdout",
     "output_type": "stream",
     "text": [
      "torch.Size([10000, 1, 1])\n",
      "torch.Size([10000, 1, 1])\n"
     ]
    }
   ],
   "source": [
    "X_rnn = torch.Tensor(X).reshape((X.shape[0], 1, 1))\n",
    "y_rnn = torch.Tensor(y).reshape((y.shape[0], 1, 1))\n",
    "\n",
    "print(X_rnn.shape)\n",
    "print(y_rnn.shape)"
   ]
  },
  {
   "cell_type": "code",
   "execution_count": 33,
   "id": "42f3e4f1",
   "metadata": {},
   "outputs": [],
   "source": [
    "# test split\n",
    "X_test = X_rnn[5000:]\n",
    "y_test = y_rnn[5000:]\n",
    "\n",
    "# train split\n",
    "X_train = X_rnn[:4000]\n",
    "y_train = y_rnn[:4000]\n",
    "\n",
    "# valid split\n",
    "X_valid = X_rnn[4000:5000]\n",
    "y_valid = y_rnn[4000:5000]"
   ]
  },
  {
   "cell_type": "code",
   "execution_count": 34,
   "id": "535d7426",
   "metadata": {},
   "outputs": [
    {
     "name": "stdout",
     "output_type": "stream",
     "text": [
      "torch.Size([4000, 1, 1])\n",
      "torch.Size([1000, 1, 1])\n",
      "torch.Size([5000, 1, 1])\n"
     ]
    }
   ],
   "source": [
    "print(X_train.shape)\n",
    "print(X_valid.shape)\n",
    "print(X_test.shape)"
   ]
  },
  {
   "cell_type": "code",
   "execution_count": 92,
   "id": "157bbeea",
   "metadata": {},
   "outputs": [],
   "source": [
    "class RNNModel(nn.Module):\n",
    "    def __init__(self, input_dim, hidden_dim, layer_dim, output_dim, act_fn='tanh'):\n",
    "        super(RNNModel, self).__init__()\n",
    "        \n",
    "        # Number of hidden dimensions\n",
    "        self.hidden_dim = hidden_dim\n",
    "        \n",
    "        # Number of hidden layers\n",
    "        self.layer_dim = layer_dim\n",
    "        \n",
    "        # RNN\n",
    "        self.rnn = nn.RNN(input_dim, hidden_dim, layer_dim, nonlinearity=act_fn)\n",
    "        \n",
    "        # Readout layer\n",
    "        self.fc = nn.Linear(hidden_dim, output_dim)\n",
    "    \n",
    "    def forward(self, x, h0):\n",
    "        out, hn = self.rnn(x, h0)\n",
    "        out = self.fc(hn) \n",
    "        return out, hn"
   ]
  },
  {
   "cell_type": "code",
   "execution_count": 93,
   "id": "5b3d23fc",
   "metadata": {},
   "outputs": [],
   "source": [
    "model = RNNModel(1, 30, 1, 1)\n",
    "\n",
    "optimizer = torch.optim.SGD(model.parameters(), lr = 0.3)\n",
    "loss_fn = torch.nn.MSELoss(reduction=\"mean\")"
   ]
  },
  {
   "cell_type": "code",
   "execution_count": 94,
   "id": "a352fd64",
   "metadata": {},
   "outputs": [],
   "source": [
    "def evaluate_rnn(model, dl_valid, hidden_state, loss_fn):\n",
    "    model.eval()\n",
    "    \n",
    "    valid_loss = 0.0\n",
    "    \n",
    "    y_pred, hidden_state = model(x, hidden_state)\n",
    "    loss = loss_fn(y_pred.view(-1), y)\n",
    "    valid_loss += loss.item()\n",
    "        \n",
    "    return valid_loss / n"
   ]
  },
  {
   "cell_type": "code",
   "execution_count": 95,
   "id": "1b79eb09",
   "metadata": {},
   "outputs": [
    {
     "name": "stderr",
     "output_type": "stream",
     "text": [
      "100%|███████████████████████████████████████████████████████████████████████████████████████████████████████████████████████████████████████████████████████████████████| 100/100 [00:20<00:00,  4.83it/s]\n"
     ]
    }
   ],
   "source": [
    "train_losses = []\n",
    "valid_losses = []\n",
    "\n",
    "for i in tqdm(range(100)):\n",
    "    \n",
    "    valid_loss = 0.0\n",
    "    train_loss = 0.0\n",
    "    n = 0\n",
    "    model.train()\n",
    "    \n",
    "    hidden_state = torch.zeros(1, 1, 30)\n",
    "    \n",
    "    optimizer.zero_grad()\n",
    "    y_pred, hidden_state = model(X_train, hidden_state)\n",
    "    loss = loss_fn(y_pred.view(-1), y)\n",
    "    loss.backward()\n",
    "    optimizer.step()\n",
    "    hidden_state = hidden_state.detach()\n",
    "\n",
    "    train_loss += loss.item()\n",
    "    \n",
    "    train_losses.append(train_loss)\n",
    "    valid_losses.append(evaluate_rnn(model, dl_valid, hidden_state, loss_fn))"
   ]
  },
  {
   "cell_type": "code",
   "execution_count": 96,
   "id": "152faa3c",
   "metadata": {},
   "outputs": [
    {
     "data": {
      "image/png": "[encoded data removed]",
      "text/plain": [
       "<Figure size 640x480 with 1 Axes>"
      ]
     },
     "metadata": {},
     "output_type": "display_data"
    }
   ],
   "source": [
    "plt.plot(train_losses)\n",
    "plt.plot(valid_losses)\n",
    "plt.show()"
   ]
  },
  {
   "cell_type": "code",
   "execution_count": 97,
   "id": "f520fbf4",
   "metadata": {},
   "outputs": [
    {
     "name": "stdout",
     "output_type": "stream",
     "text": [
      "0.02193334326148033\n"
     ]
    }
   ],
   "source": [
    "print(train_losses[-1])"
   ]
  },
  {
   "cell_type": "code",
   "execution_count": 98,
   "id": "c2211806",
   "metadata": {},
   "outputs": [
    {
     "name": "stdout",
     "output_type": "stream",
     "text": [
      "0.022283485159277916\n"
     ]
    }
   ],
   "source": [
    "print(valid_losses[-1])"
   ]
  },
  {
   "cell_type": "code",
   "execution_count": 99,
   "id": "91f030d3",
   "metadata": {},
   "outputs": [
    {
     "name": "stdout",
     "output_type": "stream",
     "text": [
      "0.022283485159277916\n"
     ]
    }
   ],
   "source": [
    "print(evaluate_rnn(model, dl_test, hidden_state, loss_fn))"
   ]
  }
 ],
 "metadata": {
  "kernelspec": {
   "display_name": "cns",
   "language": "python",
   "name": "cns"
  },
  "language_info": {
   "codemirror_mode": {
    "name": "ipython",
    "version": 3
   },
   "file_extension": ".py",
   "mimetype": "text/x-python",
   "name": "python",
   "nbconvert_exporter": "python",
   "pygments_lexer": "ipython3",
   "version": "3.10.8"
  }
 },
 "nbformat": 4,
 "nbformat_minor": 5
}
